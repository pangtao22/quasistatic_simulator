{
 "cells": [
  {
   "cell_type": "code",
   "execution_count": null,
   "metadata": {
    "pycharm": {
     "name": "#%%\n"
    }
   },
   "outputs": [],
   "source": [
    "import sys\n",
    "# sys.path.append(\"/Users/pangtao/PycharmProjects/manipulation_russ\")\n",
    "sys.path.append(\"/home/amazon/PycharmProjects/manipulation_russ\")"
   ]
  },
  {
   "cell_type": "code",
   "execution_count": null,
   "metadata": {
    "pycharm": {
     "name": "#%%\n"
    }
   },
   "outputs": [],
   "source": [
    "# Imports\n",
    "import os\n",
    "\n",
    "import numpy as np\n",
    "\n",
    "from pydrake.all import (\n",
    "    AddMultibodyPlantSceneGraph, DiagramBuilder, RigidTransform,\n",
    "    FindResourceOrThrow, GenerateHtml, InverseDynamicsController, \n",
    "    MultibodyPlant, Parser, Simulator, MeshcatVisualizerCpp,\n",
    "    Role, MeshcatVisualizerParams, StartMeshcat, Box, Rgba)\n",
    "from manipulation import running_as_notebook\n",
    "from manipulation.meshcat_cpp_utils import MeshcatJointSliders\n",
    "\n",
    "from qsim.model_paths import models_dir\n",
    "from qsim.parser import QuasistaticParser\n",
    "from qsim.simulator import QuasistaticSimulator"
   ]
  },
  {
   "cell_type": "code",
   "execution_count": null,
   "metadata": {
    "pycharm": {
     "name": "#%%\n"
    }
   },
   "outputs": [],
   "source": [
    "# Start the visualizer.\n",
    "meshcat = StartMeshcat()"
   ]
  },
  {
   "cell_type": "code",
   "execution_count": null,
   "metadata": {
    "pycharm": {
     "name": "#%%\n"
    }
   },
   "outputs": [],
   "source": [
    "# Build bimanual plant with object.\n",
    "q_model_path = os.path.join(models_dir, 'q_sys', 'iiwa_planar_bimanual_box.yml')\n",
    "q_parser = QuasistaticParser(q_model_path)\n",
    "\n",
    "builder = DiagramBuilder()\n",
    "plant, scene_graph, robot_models, object_models = \\\n",
    "    QuasistaticSimulator.create_plant_with_robots_and_objects(\n",
    "        builder=builder,\n",
    "        model_directive_path=q_parser.model_directive_path,\n",
    "        robot_names=[name for name in q_parser.robot_stiffness_dict.keys()],\n",
    "        object_sdf_paths={},\n",
    "        time_step=1e-3,  # Only useful for MBP simulations.\n",
    "        gravity=q_parser.q_sim_params.gravity)"
   ]
  },
  {
   "cell_type": "code",
   "execution_count": null,
   "metadata": {
    "pycharm": {
     "is_executing": true,
     "name": "#%%\n"
    }
   },
   "outputs": [],
   "source": [
    "meshcat.Delete()\n",
    "# Add box.\n",
    "X_WB = RigidTransform([0.55, 0, 0.203])\n",
    "meshcat.SetObject(\"box\", Box(0.460, 0.457, 0.406), Rgba(0.5, 0.5, 0.5, 0.6))\n",
    "meshcat.SetTransform(\"box\", X_WB)\n",
    "\n",
    "\n",
    "mvp = MeshcatVisualizerParams()\n",
    "mvp.role = Role.kIllustration\n",
    "visualizer = MeshcatVisualizerCpp.AddToBuilder(builder, scene_graph, meshcat, mvp)\n",
    "diagram = builder.Build()\n",
    "context = diagram.CreateDefaultContext()\n",
    "\n",
    "sliders = MeshcatJointSliders(meshcat, plant, context)\n",
    "sliders.Run(visualizer, context)  #\n"
   ]
  },
  {
   "cell_type": "code",
   "execution_count": null,
   "metadata": {
    "pycharm": {
     "is_executing": true,
     "name": "#%%\n"
    }
   },
   "outputs": [],
   "source": []
  }
 ],
 "metadata": {
  "kernelspec": {
   "display_name": "Python 3",
   "language": "python",
   "name": "python3"
  },
  "language_info": {
   "codemirror_mode": {
    "name": "ipython",
    "version": 3
   },
   "file_extension": ".py",
   "mimetype": "text/x-python",
   "name": "python",
   "nbconvert_exporter": "python",
   "pygments_lexer": "ipython3",
   "version": "3.8.10"
  }
 },
 "nbformat": 4,
 "nbformat_minor": 5
}
