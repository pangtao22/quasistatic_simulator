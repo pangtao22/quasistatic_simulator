{
 "cells": [
  {
   "cell_type": "code",
   "execution_count": null,
   "metadata": {
    "pycharm": {
     "name": "#%%\n"
    }
   },
   "outputs": [],
   "source": [
    "# Imports\n",
    "import numpy as np\n",
    "from pydrake.all import (\n",
    "    AddMultibodyPlantSceneGraph, DiagramBuilder,\n",
    "    FindResourceOrThrow, GenerateHtml, InverseDynamicsController,\n",
    "    MultibodyPlant, Parser, Simulator, MeshcatVisualizer,\n",
    "    StartMeshcat, JointSliders,\n",
    "    Role, MeshcatVisualizerParams)"
   ]
  },
  {
   "cell_type": "code",
   "execution_count": null,
   "metadata": {
    "pycharm": {
     "name": "#%%\n"
    }
   },
   "outputs": [],
   "source": [
    "# Start the visualizer.\n",
    "meshcat = StartMeshcat()"
   ]
  },
  {
   "cell_type": "code",
   "execution_count": null,
   "metadata": {
    "pycharm": {
     "name": "#%%\n",
     "is_executing": true
    }
   },
   "outputs": [],
   "source": [
    "builder = DiagramBuilder()\n",
    "\n",
    "plant, scene_graph = AddMultibodyPlantSceneGraph(builder, time_step=0.0)\n",
    "# allegro_file = \"/Users/pangtao/PycharmProjects/quasistatic_simulator/models/allegro_hand_description_right_spheres.sdf\"\n",
    "allegro_file = FindResourceOrThrow(\"drake/manipulation/models/allegro_hand_description\"\n",
    "                    \"/sdf/allegro_hand_description_right.sdf\")\n",
    "Parser(plant, scene_graph).AddModelFromFile(allegro_file)\n",
    "plant.WeldFrames(plant.world_frame(), plant.GetFrameByName(\"hand_root\"))\n",
    "plant.Finalize()\n",
    "\n",
    "meshcat.Delete()\n",
    "mvp = MeshcatVisualizerParams()\n",
    "mvp.role = Role.kIllustration\n",
    "visualizer = MeshcatVisualizer.AddToBuilder(builder, scene_graph, meshcat, mvp)\n",
    "sliders = builder.AddSystem(JointSliders(meshcat, plant))\n",
    "\n",
    "diagram = builder.Build()\n",
    "context = diagram.CreateDefaultContext()\n",
    "\n",
    "\n",
    "sliders.Run(diagram)  #\n",
    "\n"
   ]
  }
 ],
 "metadata": {
  "kernelspec": {
   "display_name": "Python 3",
   "language": "python",
   "name": "python3"
  },
  "language_info": {
   "codemirror_mode": {
    "name": "ipython",
    "version": 3
   },
   "file_extension": ".py",
   "mimetype": "text/x-python",
   "name": "python",
   "nbconvert_exporter": "python",
   "pygments_lexer": "ipython3",
   "version": "3.8.10"
  }
 },
 "nbformat": 4,
 "nbformat_minor": 5
}
