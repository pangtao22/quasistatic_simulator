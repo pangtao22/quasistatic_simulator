{
 "cells": [
  {
   "cell_type": "code",
   "execution_count": null,
   "id": "latest-destination",
   "metadata": {},
   "outputs": [],
   "source": [
    "import sys\n",
    "sys.path.append(\"/Users/pangtao/PycharmProjects/manipulation_russ\")"
   ]
  },
  {
   "cell_type": "code",
   "execution_count": null,
   "id": "available-injury",
   "metadata": {},
   "outputs": [],
   "source": [
    "# Imports\n",
    "import numpy as np\n",
    "import pydot\n",
    "from IPython.display import display, HTML, SVG\n",
    "\n",
    "from pydrake.all import (\n",
    "    AddMultibodyPlantSceneGraph, DiagramBuilder, \n",
    "    FindResourceOrThrow, GenerateHtml, InverseDynamicsController, \n",
    "    MultibodyPlant, Parser, Simulator, MeshcatVisualizerCpp,\n",
    "    Role, MeshcatVisualizerParams)\n",
    "from manipulation import running_as_notebook\n",
    "from manipulation.meshcat_cpp_utils import (\n",
    "  StartMeshcat, MeshcatJointSliders)"
   ]
  },
  {
   "cell_type": "code",
   "execution_count": null,
   "id": "hispanic-luxury",
   "metadata": {},
   "outputs": [],
   "source": [
    "# Start the visualizer.\n",
    "meshcat = StartMeshcat()"
   ]
  },
  {
   "cell_type": "code",
   "execution_count": null,
   "id": "average-peoples",
   "metadata": {},
   "outputs": [],
   "source": [
    "builder = DiagramBuilder()\n",
    "\n",
    "plant, scene_graph = AddMultibodyPlantSceneGraph(builder, time_step=0.0)\n",
    "allegro_file = \"/Users/pangtao/PycharmProjects/quasistatic_simulator/models/allegro_hand_description_right_spheres.sdf\"\n",
    "Parser(plant, scene_graph).AddModelFromFile(allegro_file)\n",
    "plant.WeldFrames(plant.world_frame(), plant.GetFrameByName(\"hand_root\"))\n",
    "plant.Finalize()\n",
    "\n",
    "meshcat.Delete()\n",
    "mvp = MeshcatVisualizerParams()\n",
    "mvp.role = Role.kProximity\n",
    "visualizer = MeshcatVisualizerCpp.AddToBuilder(builder, scene_graph, meshcat, mvp)\n",
    "diagram = builder.Build()\n",
    "context = diagram.CreateDefaultContext()\n",
    "\n",
    "sliders = MeshcatJointSliders(meshcat, plant, context)\n",
    "sliders.Run(visualizer, context)  #\n",
    "\n"
   ]
  },
  {
   "cell_type": "code",
   "execution_count": null,
   "id": "disturbed-retail",
   "metadata": {},
   "outputs": [],
   "source": [
    "sliders._sliders"
   ]
  }
 ],
 "metadata": {
  "kernelspec": {
   "display_name": "Python 3",
   "language": "python",
   "name": "python3"
  },
  "language_info": {
   "codemirror_mode": {
    "name": "ipython",
    "version": 3
   },
   "file_extension": ".py",
   "mimetype": "text/x-python",
   "name": "python",
   "nbconvert_exporter": "python",
   "pygments_lexer": "ipython3",
   "version": "3.9.9"
  }
 },
 "nbformat": 4,
 "nbformat_minor": 5
}
