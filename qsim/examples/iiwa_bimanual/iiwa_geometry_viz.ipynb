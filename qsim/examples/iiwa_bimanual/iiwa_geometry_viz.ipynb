{
 "cells": [
  {
   "cell_type": "code",
   "execution_count": null,
   "metadata": {
    "pycharm": {
     "name": "#%%\n"
    }
   },
   "outputs": [],
   "source": [
    "# Imports\n",
    "import numpy as np\n",
    "import os\n",
    "from pathlib import Path\n",
    "\n",
    "from pydrake.all import (\n",
    "    AddMultibodyPlantSceneGraph, DiagramBuilder, RigidTransform,\n",
    "    FindResourceOrThrow, RollPitchYaw, InverseDynamicsController,\n",
    "    MultibodyPlant, Parser, Simulator, Role)\n",
    "\n",
    "from pydrake.systems.meshcat_visualizer import MeshcatVisualizer, ConnectMeshcatVisualizer"
   ]
  },
  {
   "cell_type": "code",
   "execution_count": null,
   "metadata": {
    "pycharm": {
     "name": "#%%\n"
    }
   },
   "outputs": [],
   "source": [
    "builder = DiagramBuilder()\n",
    "\n",
    "plant, scene_graph = AddMultibodyPlantSceneGraph(builder, time_step=0.0)\n",
    "file_3 = os.path.join(str(Path.home()),\n",
    "                      \"PycharmProjects/quasistatic_simulator/models\"\n",
    "                      \"/iiwa7_planar_sphere_collision.sdf\")\n",
    "file_7 = os.path.join(str(Path.home()),\n",
    "                      \"PycharmProjects/quasistatic_simulator/models\"\n",
    "                      \"/iiwa7_sphere_collision.sdf\")\n",
    "model_3 = Parser(plant, scene_graph).AddModelFromFile(file_3, \"iiwa_7_planar\")\n",
    "model_7 = Parser(plant, scene_graph).AddModelFromFile(file_7)\n",
    "plant.WeldFrames(plant.world_frame(),\n",
    "                 plant.GetFrameByName(\"iiwa_link_0\", model_3))\n",
    "plant.WeldFrames(plant.world_frame(),\n",
    "                 plant.GetFrameByName(\"iiwa_link_0\", model_7),\n",
    "                 RigidTransform([0, 1.5, 0]))\n",
    "plant.Finalize()\n",
    "\n",
    "\n",
    "frames_to_draw = []\n",
    "for i in range(8):\n",
    "    name = f\"iiwa_link_{i}\"\n",
    "    body_3 = plant.GetBodyByName(name, model_3)\n",
    "    body_7 = plant.GetBodyByName(name, model_7)\n",
    "    frames_to_draw.append(plant.GetBodyFrameIdIfExists(body_3.index()))\n",
    "    frames_to_draw.append(plant.GetBodyFrameIdIfExists(body_7.index()))\n",
    "\n",
    "\n",
    "visualizer = ConnectMeshcatVisualizer(builder, scene_graph, frames_to_draw=frames_to_draw)\n",
    "diagram = builder.Build()\n",
    "visualizer.load()\n",
    "context = diagram.CreateDefaultContext()\n",
    "context_vis = visualizer.GetMyContextFromRoot(context)\n",
    "context_plant = plant.GetMyContextFromRoot(context)\n",
    "visualizer.DoPublish(context_vis, [])\n"
   ]
  },
  {
   "cell_type": "code",
   "execution_count": null,
   "metadata": {
    "pycharm": {
     "name": "#%%\n"
    }
   },
   "outputs": [],
   "source": [
    "q = np.zeros(7)\n",
    "q[1] = np.pi / 2\n",
    "q[2] = np.pi / 2\n",
    "indices_3_into_7 = [0, 3, 5]\n",
    "\n",
    "q3 = np.array([np.pi / 6, np.pi / 6, -np.pi / 6])\n",
    "q[indices_3_into_7] = q3\n",
    "\n",
    "plant.SetPositions(context_plant, model_7, q)\n",
    "plant.SetPositions(context_plant, model_3, q[indices_3_into_7])\n",
    "visualizer.DoPublish(context_vis, [])"
   ]
  },
  {
   "cell_type": "code",
   "execution_count": null,
   "metadata": {
    "pycharm": {
     "name": "#%%\n"
    }
   },
   "outputs": [],
   "source": [
    "q = np.zeros(7)\n",
    "q[1] = np.pi / 2\n",
    "q[2] = np.pi / 2\n",
    "plant.SetPositions(context_plant, q)\n",
    "visualizer.DoPublish(context_vis, [])"
   ]
  },
  {
   "cell_type": "code",
   "execution_count": null,
   "metadata": {
    "pycharm": {
     "name": "#%%\n"
    }
   },
   "outputs": [],
   "source": [
    "body_frames = [plant.GetFrameByName(f\"iiwa_link_{i}\") for i in range(8)]"
   ]
  },
  {
   "cell_type": "code",
   "execution_count": null,
   "metadata": {
    "pycharm": {
     "name": "#%%\n"
    }
   },
   "outputs": [],
   "source": [
    "np.set_printoptions(precision=4)\n",
    "for i, L in enumerate(body_frames):\n",
    "    X_WL = plant.CalcRelativeTransform(context_plant, plant.world_frame(), L)\n",
    "    print(i, X_WL.translation(), RollPitchYaw(X_WL.rotation()).vector())\n",
    "    print('===============================================')"
   ]
  },
  {
   "cell_type": "code",
   "execution_count": null,
   "metadata": {
    "pycharm": {
     "name": "#%%\n"
    }
   },
   "outputs": [],
   "source": []
  },
  {
   "cell_type": "code",
   "execution_count": null,
   "outputs": [],
   "source": [],
   "metadata": {
    "collapsed": false,
    "pycharm": {
     "name": "#%%\n"
    }
   }
  },
  {
   "cell_type": "code",
   "execution_count": null,
   "metadata": {
    "pycharm": {
     "name": "#%%\n"
    }
   },
   "outputs": [],
   "source": []
  }
 ],
 "metadata": {
  "kernelspec": {
   "display_name": "Python 3",
   "language": "python",
   "name": "python3"
  },
  "language_info": {
   "codemirror_mode": {
    "name": "ipython",
    "version": 3
   },
   "file_extension": ".py",
   "mimetype": "text/x-python",
   "name": "python",
   "nbconvert_exporter": "python",
   "pygments_lexer": "ipython3",
   "version": "3.8.10"
  }
 },
 "nbformat": 4,
 "nbformat_minor": 5
}
